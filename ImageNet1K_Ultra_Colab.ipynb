{
 "cells": [
  {
   "cell_type": "markdown",
   "metadata": {},
   "source": [
    "# ImageNet-1K AST Validation - Ultra Configuration\n",
    "\n",
    "**Developed by Oluwafemi Idiakhoa**\n",
    "\n",
    "**Goal**: Validate Adaptive Sparse Training on full ImageNet-1K (1.28M images)\n",
    "\n",
    "**Expected Results**:\n",
    "- Accuracy: 70-72%\n",
    "- Energy Savings: 80%\n",
    "- Training Time: 8 hours on V100\n",
    "\n",
    "---\n",
    "\n",
    "## Setup Instructions:\n",
    "\n",
    "1. **Runtime**: Change to **A100 GPU** (preferred) or **V100**\n",
    "   - Runtime → Change runtime type → Hardware accelerator: GPU → GPU type: A100\n",
    "\n",
    "2. **Run all cells** in order\n",
    "\n",
    "3. **Estimated time**: 5-8 hours depending on GPU\n",
    "\n",
    "4. **Important**: Mount Google Drive to save checkpoints!\n"
   ]
  },
  {
   "cell_type": "markdown",
   "metadata": {},
   "source": [
    "## Step 1: Environment Setup"
   ]
  },
  {
   "cell_type": "code",
   "execution_count": null,
   "metadata": {},
   "outputs": [],
   "source": [
    "# Check GPU\n",
    "!nvidia-smi\n",
    "\n",
    "import torch\n",
    "print(f\"\\nPyTorch version: {torch.__version__}\")\n",
    "print(f\"CUDA available: {torch.cuda.is_available()}\")\n",
    "if torch.cuda.is_available():\n",
    "    print(f\"GPU: {torch.cuda.get_device_name(0)}\")\n",
    "    print(f\"GPU Memory: {torch.cuda.get_device_properties(0).total_memory / 1e9:.1f} GB\")"
   ]
  },
  {
   "cell_type": "code",
   "execution_count": null,
   "metadata": {},
   "outputs": [],
   "source": [
    "# Install dependencies\n",
    "!pip install -q torch torchvision tqdm matplotlib\n",
    "\n",
    "# Clone repository\n",
    "!git clone https://github.com/oluwafemidiakhoa/adaptive-sparse-training.git\n",
    "%cd adaptive-sparse-training\n",
    "\n",
    "print(\"✅ Dependencies installed and repository cloned!\")"
   ]
  },
  {
   "cell_type": "markdown",
   "metadata": {},
   "source": [
    "## Step 2: Mount Google Drive (For checkpoints)"
   ]
  },
  {
   "cell_type": "code",
   "execution_count": null,
   "metadata": {},
   "outputs": [],
   "source": [
    "from google.colab import drive\n",
    "drive.mount('/content/drive')\n",
    "\n",
    "import os\n",
    "os.makedirs(\"/content/drive/MyDrive/ast_imagenet1k_checkpoints\", exist_ok=True)\n",
    "print(\"✅ Google Drive mounted - checkpoints will be saved here\")"
   ]
  },
  {
   "cell_type": "markdown",
   "metadata": {},
   "source": [
    "## Step 3: Dataset Setup\n",
    "\n",
    "**Choose ONE option below:**"
   ]
  },
  {
   "cell_type": "markdown",
   "metadata": {},
   "source": [
    "### Option A: Kaggle Dataset (Recommended)"
   ]
  },
  {
   "cell_type": "code",
   "execution_count": null,
   "metadata": {},
   "outputs": [],
   "source": [
    "# Upload kaggle.json first (uncomment to use)\n",
    "# from google.colab import files\n",
    "# uploaded = files.upload()  # Upload your kaggle.json\n",
    "\n",
    "# !mkdir -p ~/.kaggle\n",
    "# !cp kaggle.json ~/.kaggle/\n",
    "# !chmod 600 ~/.kaggle/kaggle.json\n",
    "\n",
    "# # Download ImageNet (WARNING: 150GB, takes 2-3 hours!)\n",
    "# !kaggle competitions download -c imagenet-object-localization-challenge\n",
    "# !unzip -q imagenet-object-localization-challenge.zip -d /content/imagenet\n",
    "\n",
    "# data_dir = \"/content/imagenet/ILSVRC/Data/CLS-LOC\"\n",
    "# print(f\"✅ ImageNet-1K downloaded to: {data_dir}\")"
   ]
  },
  {
   "cell_type": "markdown",
   "metadata": {},
   "source": [
    "### Option B: Google Drive (If you already have ImageNet)"
   ]
  },
  {
   "cell_type": "code",
   "execution_count": null,
   "metadata": {},
   "outputs": [],
   "source": [
    "# Uncomment and set your path\n",
    "# data_dir = \"/content/drive/MyDrive/ImageNet1K/ILSVRC/Data/CLS-LOC\"\n",
    "# print(f\"✅ Using ImageNet from Drive: {data_dir}\")"
   ]
  },
  {
   "cell_type": "markdown",
   "metadata": {},
   "source": [
    "### Verify Dataset"
   ]
  },
  {
   "cell_type": "code",
   "execution_count": null,
   "metadata": {},
   "outputs": [],
   "source": [
    "# Set your data_dir here (from one of the options above)\n",
    "data_dir = \"/content/imagenet/ILSVRC/Data/CLS-LOC\"  # UPDATE THIS!\n",
    "\n",
    "import os\n",
    "if os.path.exists(data_dir):\n",
    "    train_dir = os.path.join(data_dir, \"train\")\n",
    "    val_dir = os.path.join(data_dir, \"val\")\n",
    "    \n",
    "    if os.path.exists(train_dir) and os.path.exists(val_dir):\n",
    "        num_train_classes = len(os.listdir(train_dir))\n",
    "        num_val_classes = len(os.listdir(val_dir))\n",
    "        print(f\"✅ Dataset verified!\")\n",
    "        print(f\"   Train classes: {num_train_classes}\")\n",
    "        print(f\"   Val classes: {num_val_classes}\")\n",
    "    else:\n",
    "        print(f\"❌ Train/Val directories not found in {data_dir}\")\n",
    "else:\n",
    "    print(f\"❌ Dataset directory not found: {data_dir}\")\n",
    "    print(\"   Please update data_dir variable above\")"
   ]
  },
  {
   "cell_type": "markdown",
   "metadata": {},
   "source": [
    "## Step 4: Load Configuration"
   ]
  },
  {
   "cell_type": "code",
   "execution_count": null,
   "metadata": {},
   "outputs": [],
   "source": [
    "from KAGGLE_IMAGENET1K_AST_CONFIGS import get_config\n",
    "\n",
    "# Get Ultra configuration (8 hours, 80% energy savings)\n",
    "config = get_config(\"ultra\")\n",
    "\n",
    "# Update with your data directory\n",
    "config.data_dir = data_dir\n",
    "\n",
    "# Adjust for Colab\n",
    "config.num_workers = 4  # Colab works better with fewer workers\n",
    "config.batch_size = 256  # Adjust if OOM errors\n",
    "\n",
    "print(\"=\"*60)\n",
    "print(\"ULTRA CONFIGURATION - Quick Validation\")\n",
    "print(\"=\"*60)\n",
    "print(f\"Total Epochs: {config.num_epochs}\")\n",
    "print(f\"Warmup Epochs: {config.warmup_epochs}\")\n",
    "print(f\"Target Activation Rate: {config.target_activation_rate:.0%}\")\n",
    "print(f\"Expected Energy Savings: {(1-config.target_activation_rate)*100:.0f}%\")\n",
    "print(f\"Batch Size: {config.batch_size}\")\n",
    "print(f\"Learning Rate: {config.ast_lr}\")\n",
    "print(f\"Estimated Time: 5-8 hours on A100/V100\")\n",
    "print(\"=\"*60)"
   ]
  },
  {
   "cell_type": "markdown",
   "metadata": {},
   "source": [
    "## Step 5: Training Script\n",
    "\n",
    "**Note**: This will take 5-8 hours. The cell will show progress as it trains.\n",
    "\n",
    "**Important**: Keep this tab open or it may disconnect!"
   ]
  },
  {
   "cell_type": "code",
   "execution_count": null,
   "metadata": {},
   "outputs": [],
   "source": [
    "print(\"🚀 Starting ImageNet-1K AST Training...\")\n",
    "print(\"\\nThis will take approximately 5-8 hours.\")\n",
    "print(\"Checkpoints will be saved to Google Drive every 5 epochs.\")\n",
    "print(\"\\nYou can monitor progress below:\")\n",
    "print(\"=\"*60)\n",
    "\n",
    "# TODO: Import and run the training script\n",
    "# This requires adapting KAGGLE_IMAGENET100_AST_PRODUCTION.py\n",
    "# to work with ImageNet-1K (1000 classes instead of 100)\n",
    "\n",
    "print(\"\\n⚠️ Training script needs to be completed.\")\n",
    "print(\"Next step: Adapt ImageNet-100 production script for 1000 classes\")\n",
    "print(\"\\nFor now, this notebook provides the setup and configuration.\")"
   ]
  },
  {
   "cell_type": "markdown",
   "metadata": {},
   "source": [
    "## Step 6: Results Analysis (After Training)"
   ]
  },
  {
   "cell_type": "code",
   "execution_count": null,
   "metadata": {},
   "outputs": [],
   "source": [
    "# This cell will analyze results after training completes\n",
    "# TODO: Add results visualization and analysis\n",
    "\n",
    "print(\"Results will be displayed here after training completes\")"
   ]
  },
  {
   "cell_type": "markdown",
   "metadata": {},
   "source": [
    "## 📊 Expected Results\n",
    "\n",
    "After 8 hours of training with Ultra configuration:\n",
    "\n",
    "```\n",
    "Metric                  Value       vs Baseline\n",
    "Top-1 Accuracy         70-72%       -4 to -6%\n",
    "Top-5 Accuracy         89-90%       -2 to -3%\n",
    "Energy Savings         80%          +80%\n",
    "Training Time          8 hours      6-8× faster\n",
    "```\n",
    "\n",
    "**If you achieve 70%+ accuracy → SUCCESS!** ✅\n",
    "\n",
    "This validates that AST scales to ImageNet-1K (1.28M images)!"
   ]
  },
  {
   "cell_type": "markdown",
   "metadata": {},
   "source": [
    "## 📝 Next Steps\n",
    "\n",
    "1. **Document results** - Save final accuracy, energy savings, training time\n",
    "2. **Update README** - Add ImageNet-1K results section\n",
    "3. **Announce** - Share results with community\n",
    "4. **Optional**: Run Conservative config (40h) for publication-quality results\n",
    "\n",
    "---\n",
    "\n",
    "**Developed by Oluwafemi Idiakhoa**\n",
    "\n",
    "GitHub: https://github.com/oluwafemidiakhoa/adaptive-sparse-training"
   ]
  }
 ],
 "metadata": {
  "accelerator": "GPU",
  "colab": {
   "gpuType": "A100",
   "provenance": []
  },
  "kernelspec": {
   "display_name": "Python 3",
   "name": "python3"
  },
  "language_info": {
   "name": "python"
  }
 },
 "nbformat": 4,
 "nbformat_minor": 0
}
